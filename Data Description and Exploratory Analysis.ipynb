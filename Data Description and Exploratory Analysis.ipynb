{
 "cells": [
  {
   "cell_type": "markdown",
   "id": "1416333c-d20e-438c-951c-1bcc342892a6",
   "metadata": {},
   "source": [
    "# **Assignment 1: Data Description & Exploratory Data Analysis and Visualization**"
   ]
  },
  {
   "cell_type": "markdown",
   "id": "63b42ecf-ec47-4c5e-a9f2-a11390184fe2",
   "metadata": {},
   "source": [
    "## **Data Description**\n",
    "- `age`: Age in $\\text{years}$.\n",
    "- `sex`: Sex (1 = male; 0 = female).\n",
    "- `cp`: Chest Pain Type (categorical: 0 to 3).\n",
    "- `trestbps`: Adiposity index in $\\text{kg}/\\text{m}^2$.\n",
    "- `chol`: Serum cholestrol in $/test{mg/dl}$\n",
    "- `fbs`: Fasting blood sugar > 120 $/test{mg/dl}$ (1 = true; 0 = false) \n",
    "- `restecg`: Resting electrocardiographic results (0 to 2)\n",
    "- `thalach`: Maximum heart rate achieved\n",
    "- `exang`: Exercise-induced angina (1 = yes; 0 = no)\n",
    "- `oldpeak`: ST depression induced by exercise relative to rest\n",
    "- `slope`: Slope of the peak exercise ST segment (0 to 2)\n",
    "- `ca`: Number of major vessels (0–4) colored by fluoroscopy\n",
    "- `thal`: Thalassemia (0 to 3)\n",
    "- `target`: Heart disease indicator (1 = disease; 0 = no disease)"
   ]
  },
  {
   "cell_type": "code",
   "execution_count": null,
   "id": "dfd29b61-552a-48c9-a625-114f32fcd412",
   "metadata": {},
   "outputs": [],
   "source": []
  }
 ],
 "metadata": {
  "kernelspec": {
   "display_name": "R",
   "language": "R",
   "name": "ir"
  },
  "language_info": {
   "codemirror_mode": "r",
   "file_extension": ".r",
   "mimetype": "text/x-r-source",
   "name": "R",
   "pygments_lexer": "r",
   "version": "4.3.3"
  }
 },
 "nbformat": 4,
 "nbformat_minor": 5
}

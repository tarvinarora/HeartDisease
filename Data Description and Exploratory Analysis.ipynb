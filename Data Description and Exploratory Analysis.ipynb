{
 "cells": [
  {
   "cell_type": "markdown",
   "id": "1416333c-d20e-438c-951c-1bcc342892a6",
   "metadata": {},
   "source": [
    "# **Assignment 1: Data Description & Exploratory Data Analysis and Visualization**"
   ]
  },
  {
   "cell_type": "markdown",
   "id": "d237e306-8868-4433-964c-8d4c9ca6816f",
   "metadata": {},
   "source": [
    "## **Introduction to the Dataset**\n",
    "\n",
    "This multivariate heart disease dataset, compiled in 1988 from Cleveland, Hungary, Switzerland, and Long Beach V, contains 76 attributes per patient, although most studies focus on a refined subset of 14 key predictors. The dataset includes both continuous variables (e.g., age, cholesterol, blood pressure) and categorical variables (e.g., chest pain type, thalassemia, number of major vessels colored by fluoroscopy), providing a balanced mix of quantitative and qualitative patient data. This combination enables comprehensive predictive analysis, with the target variable indicating heart disease presence (0 for no disease, 1 for disease), making the dataset ideal for statistical modeling and machine learning applications in cardiology."
   ]
  },
  {
   "cell_type": "markdown",
   "id": "63b42ecf-ec47-4c5e-a9f2-a11390184fe2",
   "metadata": {},
   "source": [
    "## **Data Description**\n",
    "**Number of observations:** 1025  \n",
    "**Number of Variables:** 14\n",
    "\n",
    "- `age`: Age in $\\text{years}$.\n",
    "- `sex`: Sex (1 = male; 0 = female).\n",
    "- `cp`: Chest Pain Type (categorical: 0 to 3).\n",
    "  - 0 : Typical Angina\n",
    "  - 1 : Atypical Angina\n",
    "  - 2 : Non-Anginal Pain\n",
    "  - 3 : Asymptomatic\n",
    "- `trestbps`: Adiposity index in $\\text{kg}/\\text{m}^2$.\n",
    "- `chol`: Serum cholestrol in $\\text{mg/dl}$\n",
    "- `fbs`: Fasting blood sugar > 120 $\\text{mg/dl}$ (1 = true; 0 = false) \n",
    "- `restecg`: Resting electrocardiographic results (0 to 2)\n",
    "  - 0 : Normal\n",
    "  - 1 : Having ST-T Wave Abnormalities\n",
    "  - 2 : Showing Left Ventricular Hypertrophy (LVH)\n",
    "- `thalach`: Maximum heart rate achieved\n",
    "- `exang`: Exercise-induced angina (1 = yes; 0 = no)\n",
    "- `oldpeak`: ST depression induced by exercise relative to rest\n",
    "- `slope`: Slope of the peak exercise ST segment (0 to 2)\n",
    "  - 0 : Upsloping\n",
    "  - 1 : Flat\n",
    "  - 2 : Downsloping\n",
    "- `ca`: Number of major vessels (0–4) colored by fluoroscopy\n",
    "- `thal`: Thalassemia (0 to 3)\n",
    "  - 0 : Normal (No thalassemia)\n",
    "  - 1 : Fixed Defect (Thalassemia minor)\n",
    "  - 2 : Reversible Defect (Thalassemia Intermedia)\n",
    "  - 3 : Definite Defect (Thalassemia Major)\n",
    "- `target`: Heart disease indicator (1 = disease; 0 = no disease)"
   ]
  },
  {
   "cell_type": "code",
   "execution_count": 4,
   "id": "dfd29b61-552a-48c9-a625-114f32fcd412",
   "metadata": {},
   "outputs": [
    {
     "data": {
      "text/html": [
       "<table class=\"dataframe\">\n",
       "<caption>A data.frame: 6 × 14</caption>\n",
       "<thead>\n",
       "\t<tr><th></th><th scope=col>age</th><th scope=col>sex</th><th scope=col>cp</th><th scope=col>trestbps</th><th scope=col>chol</th><th scope=col>fbs</th><th scope=col>restecg</th><th scope=col>thalach</th><th scope=col>exang</th><th scope=col>oldpeak</th><th scope=col>slope</th><th scope=col>ca</th><th scope=col>thal</th><th scope=col>target</th></tr>\n",
       "\t<tr><th></th><th scope=col>&lt;int&gt;</th><th scope=col>&lt;int&gt;</th><th scope=col>&lt;int&gt;</th><th scope=col>&lt;int&gt;</th><th scope=col>&lt;int&gt;</th><th scope=col>&lt;int&gt;</th><th scope=col>&lt;int&gt;</th><th scope=col>&lt;int&gt;</th><th scope=col>&lt;int&gt;</th><th scope=col>&lt;dbl&gt;</th><th scope=col>&lt;int&gt;</th><th scope=col>&lt;int&gt;</th><th scope=col>&lt;int&gt;</th><th scope=col>&lt;int&gt;</th></tr>\n",
       "</thead>\n",
       "<tbody>\n",
       "\t<tr><th scope=row>1</th><td>52</td><td>1</td><td>0</td><td>125</td><td>212</td><td>0</td><td>1</td><td>168</td><td>0</td><td>1.0</td><td>2</td><td>2</td><td>3</td><td>0</td></tr>\n",
       "\t<tr><th scope=row>2</th><td>53</td><td>1</td><td>0</td><td>140</td><td>203</td><td>1</td><td>0</td><td>155</td><td>1</td><td>3.1</td><td>0</td><td>0</td><td>3</td><td>0</td></tr>\n",
       "\t<tr><th scope=row>3</th><td>70</td><td>1</td><td>0</td><td>145</td><td>174</td><td>0</td><td>1</td><td>125</td><td>1</td><td>2.6</td><td>0</td><td>0</td><td>3</td><td>0</td></tr>\n",
       "\t<tr><th scope=row>4</th><td>61</td><td>1</td><td>0</td><td>148</td><td>203</td><td>0</td><td>1</td><td>161</td><td>0</td><td>0.0</td><td>2</td><td>1</td><td>3</td><td>0</td></tr>\n",
       "\t<tr><th scope=row>5</th><td>62</td><td>0</td><td>0</td><td>138</td><td>294</td><td>1</td><td>1</td><td>106</td><td>0</td><td>1.9</td><td>1</td><td>3</td><td>2</td><td>0</td></tr>\n",
       "\t<tr><th scope=row>6</th><td>58</td><td>0</td><td>0</td><td>100</td><td>248</td><td>0</td><td>0</td><td>122</td><td>0</td><td>1.0</td><td>1</td><td>0</td><td>2</td><td>1</td></tr>\n",
       "</tbody>\n",
       "</table>\n"
      ],
      "text/latex": [
       "A data.frame: 6 × 14\n",
       "\\begin{tabular}{r|llllllllllllll}\n",
       "  & age & sex & cp & trestbps & chol & fbs & restecg & thalach & exang & oldpeak & slope & ca & thal & target\\\\\n",
       "  & <int> & <int> & <int> & <int> & <int> & <int> & <int> & <int> & <int> & <dbl> & <int> & <int> & <int> & <int>\\\\\n",
       "\\hline\n",
       "\t1 & 52 & 1 & 0 & 125 & 212 & 0 & 1 & 168 & 0 & 1.0 & 2 & 2 & 3 & 0\\\\\n",
       "\t2 & 53 & 1 & 0 & 140 & 203 & 1 & 0 & 155 & 1 & 3.1 & 0 & 0 & 3 & 0\\\\\n",
       "\t3 & 70 & 1 & 0 & 145 & 174 & 0 & 1 & 125 & 1 & 2.6 & 0 & 0 & 3 & 0\\\\\n",
       "\t4 & 61 & 1 & 0 & 148 & 203 & 0 & 1 & 161 & 0 & 0.0 & 2 & 1 & 3 & 0\\\\\n",
       "\t5 & 62 & 0 & 0 & 138 & 294 & 1 & 1 & 106 & 0 & 1.9 & 1 & 3 & 2 & 0\\\\\n",
       "\t6 & 58 & 0 & 0 & 100 & 248 & 0 & 0 & 122 & 0 & 1.0 & 1 & 0 & 2 & 1\\\\\n",
       "\\end{tabular}\n"
      ],
      "text/markdown": [
       "\n",
       "A data.frame: 6 × 14\n",
       "\n",
       "| <!--/--> | age &lt;int&gt; | sex &lt;int&gt; | cp &lt;int&gt; | trestbps &lt;int&gt; | chol &lt;int&gt; | fbs &lt;int&gt; | restecg &lt;int&gt; | thalach &lt;int&gt; | exang &lt;int&gt; | oldpeak &lt;dbl&gt; | slope &lt;int&gt; | ca &lt;int&gt; | thal &lt;int&gt; | target &lt;int&gt; |\n",
       "|---|---|---|---|---|---|---|---|---|---|---|---|---|---|---|\n",
       "| 1 | 52 | 1 | 0 | 125 | 212 | 0 | 1 | 168 | 0 | 1.0 | 2 | 2 | 3 | 0 |\n",
       "| 2 | 53 | 1 | 0 | 140 | 203 | 1 | 0 | 155 | 1 | 3.1 | 0 | 0 | 3 | 0 |\n",
       "| 3 | 70 | 1 | 0 | 145 | 174 | 0 | 1 | 125 | 1 | 2.6 | 0 | 0 | 3 | 0 |\n",
       "| 4 | 61 | 1 | 0 | 148 | 203 | 0 | 1 | 161 | 0 | 0.0 | 2 | 1 | 3 | 0 |\n",
       "| 5 | 62 | 0 | 0 | 138 | 294 | 1 | 1 | 106 | 0 | 1.9 | 1 | 3 | 2 | 0 |\n",
       "| 6 | 58 | 0 | 0 | 100 | 248 | 0 | 0 | 122 | 0 | 1.0 | 1 | 0 | 2 | 1 |\n",
       "\n"
      ],
      "text/plain": [
       "  age sex cp trestbps chol fbs restecg thalach exang oldpeak slope ca thal\n",
       "1 52  1   0  125      212  0   1       168     0     1.0     2     2  3   \n",
       "2 53  1   0  140      203  1   0       155     1     3.1     0     0  3   \n",
       "3 70  1   0  145      174  0   1       125     1     2.6     0     0  3   \n",
       "4 61  1   0  148      203  0   1       161     0     0.0     2     1  3   \n",
       "5 62  0   0  138      294  1   1       106     0     1.9     1     3  2   \n",
       "6 58  0   0  100      248  0   0       122     0     1.0     1     0  2   \n",
       "  target\n",
       "1 0     \n",
       "2 0     \n",
       "3 0     \n",
       "4 0     \n",
       "5 0     \n",
       "6 1     "
      ]
     },
     "metadata": {},
     "output_type": "display_data"
    }
   ],
   "source": [
    "heart <- read.csv(\"heart.csv\")\n",
    "head(heart)"
   ]
  },
  {
   "cell_type": "markdown",
   "id": "cc22324b-c3a0-4960-8d58-8b74e32848c0",
   "metadata": {},
   "source": [
    "## Questions:\n",
    "- Among dietary, genetic, and exercise-related factors, which has the strongest \n",
    "association with the likelihood of heart disease in this dataset?\n",
    "- Among dietary, genetic, and exercise-related factors, which has the strongest association with the likelihood of heart disease in this dataset, when compared between men and women?\n",
    "\n",
    "Either, you have women vs men for each of the 3 categories  \n",
    "or, you have 3 logistic regressions on one graph to represent which factor afcfects the likelihood the most. (one men, one women)"
   ]
  },
  {
   "cell_type": "code",
   "execution_count": null,
   "id": "7183911b-03e2-49d7-8d29-b03933b06776",
   "metadata": {},
   "outputs": [],
   "source": []
  }
 ],
 "metadata": {
  "kernelspec": {
   "display_name": "R",
   "language": "R",
   "name": "ir"
  },
  "language_info": {
   "codemirror_mode": "r",
   "file_extension": ".r",
   "mimetype": "text/x-r-source",
   "name": "R",
   "pygments_lexer": "r",
   "version": "4.3.3"
  }
 },
 "nbformat": 4,
 "nbformat_minor": 5
}
